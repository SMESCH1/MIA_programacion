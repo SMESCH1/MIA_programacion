import random

def crear_album(figus_total):
    """
    Crea un álbum vacío con figus_total espacios para pegar figuritas.
    
    Args:
        figus_total (int): Cantidad total de figuritas que tendrá el álbum.
        
    Returns:
        list: Un vector (lista) con figus_total posiciones inicializadas en 0,
              donde cada 0 representa un espacio vacío para pegar una figurita.
    """
    return [0]*figus_total


# album = crear_album(860)
# print(len(album))

def album_incompleto(A):
    return False if sum(A==860)


def comprar_figu(figus_total):
    