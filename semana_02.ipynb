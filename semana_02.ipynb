{
 "cells": [
  {
   "cell_type": "code",
   "execution_count": null,
   "metadata": {},
   "outputs": [
    {
     "data": {
      "text/plain": [
       "[5, 4, 3, 2, 1]"
      ]
     },
     "execution_count": 4,
     "metadata": {},
     "output_type": "execute_result"
    }
   ],
   "source": [
    "### Ej 1: Invertir una lista\n",
    "def invertir_lista(lista):\n",
    "    lista = lista[::-1]\n",
    "    return lista\n",
    "\n",
    "# def invertir_lista2(l):\n",
    "#     res = []\n",
    "#     for i in range(len(l)):\n",
    "#             res.append(l[-i-1])\n",
    "#     return res\n",
    "\n",
    "# lista = [1, 2, 3, 4, 5]\n",
    "# invertir_lista2(lista)"
   ]
  },
  {
   "cell_type": "code",
   "execution_count": null,
   "metadata": {},
   "outputs": [
    {
     "name": "stdout",
     "output_type": "stream",
     "text": [
      "81\n"
     ]
    }
   ],
   "source": [
    "### Ej 2: Conjetura Collatz\n",
    "def collatz(nro):    \n",
    "    if nro == 1:\n",
    "        return 0\n",
    "    else:\n",
    "        if nro%2 == 0:\n",
    "            nro =  nro/2\n",
    "        else:\n",
    "            nro =  nro*3+1\n",
    "        rta = collatz(nro)\n",
    "        return 1 + rta\n",
    "\n",
    "print(collatz(350))\n"
   ]
  },
  {
   "cell_type": "code",
   "execution_count": null,
   "metadata": {},
   "outputs": [
    {
     "name": "stdout",
     "output_type": "stream",
     "text": [
      "{'perro': 3, 'gato': 2, 'pez': 1}\n"
     ]
    }
   ],
   "source": [
    "### Ej 3: Diccionarios\n",
    "def contar_definiciones(d):\n",
    "    count_defs = {}\n",
    "    for c,defs in d.items():\n",
    "        count_defs[c] = len(defs)\n",
    "    return count_defs\n",
    "## solucion mucho mejor con dict por compresion\n",
    "## return {clave: len(definiciones) for clave, definiciones in d.items()}\n",
    "\n",
    "def cantidad_de_claves_letra(d, l):\n",
    "    contador = 0\n",
    "    for clave in d:\n",
    "        if clave.startswith(l):\n",
    "            contador += 1\n",
    "    return contador\n",
    "### opcion mejor, generador en sum:\n",
    "### return sum(1 for clave in d if clave.startswith(l))\n",
    "\n"
   ]
  },
  {
   "cell_type": "code",
   "execution_count": null,
   "metadata": {},
   "outputs": [],
   "source": [
    "### Ej 4: Propagación\n",
    "\n",
    "def propagar(fosforos):\n",
    "    # Propagación hacia la derecha\n",
    "    for i in range(1, len(fosforos)):\n",
    "        if fosforos[i] == 0 and fosforos[i - 1] == 1:\n",
    "            fosforos[i] = 1\n",
    "\n",
    "    # Propagación hacia la izquierda\n",
    "    for i in range(len(fosforos) - 2, -1, -1):\n",
    "        if fosforos[i] == 0 and fosforos[i + 1] == 1:\n",
    "            fosforos[i] = 1\n",
    "    return fosforos\n",
    "    # si quisieramos convertir los fósforos que estaban encendidos en carbonizados\n",
    "    # return [-1 if x == 1 else x for x in fosforos]\n",
    "\n",
    "def propagar(fosforos):\n",
    "    # Propagación hacia la derecha\n",
    "    for i in range(1, len(fosforos)):\n",
    "        if fosforos[i] == 0 and fosforos[i - 1] == 1:\n",
    "            fosforos[i] = 1\n",
    "\n",
    "    # Propagación hacia la izquierda\n",
    "    for i in range(len(fosforos) - 1, 1):\n",
    "        if fosforos[i] == 0 and fosforos[i + 1] == 1:\n",
    "            fosforos[i] = 1\n",
    "    return fosforos\n",
    "\n",
    "        \n",
    "\n",
    "propagar([ 0, 0, 0,-1, 1, 0, 0, 0,-1, 0, 1, 0, 0])\n",
    "\n",
    "    \n",
    "\n"
   ]
  }
 ],
 "metadata": {
  "kernelspec": {
   "display_name": "base",
   "language": "python",
   "name": "python3"
  },
  "language_info": {
   "codemirror_mode": {
    "name": "ipython",
    "version": 3
   },
   "file_extension": ".py",
   "mimetype": "text/x-python",
   "name": "python",
   "nbconvert_exporter": "python",
   "pygments_lexer": "ipython3",
   "version": "3.12.7"
  }
 },
 "nbformat": 4,
 "nbformat_minor": 2
}
