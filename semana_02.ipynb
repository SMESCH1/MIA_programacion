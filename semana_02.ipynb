{
 "cells": [
  {
   "cell_type": "code",
   "execution_count": null,
   "metadata": {},
   "outputs": [
    {
     "name": "stdout",
     "output_type": "stream",
     "text": [
      "16\n"
     ]
    }
   ],
   "source": [
    "def invertir_lista(lista):\n",
    "    lista = lista[::-1]\n",
    "    return lista\n",
    "\n",
    "lista = [1, 2, 3, 4, 5]\n",
    "invertir_lista(lista)\n",
    "\n",
    "def collatz(nro):    \n",
    "    if nro == 1:\n",
    "        return(nro)\n",
    "    else:\n",
    "        if nro%2 == 0:\n",
    "            return nro/2\n",
    "        else:\n",
    "            return nro*3+1\n",
    "\n",
    "print(collatz(5))\n",
    "\n",
    "\n",
    "def contar_definiciones(d):\n",
    "    \n",
    "\n",
    "\n",
    "\n",
    "def cantidad_de_claves_letra(d, l):\n"
   ]
  }
 ],
 "metadata": {
  "kernelspec": {
   "display_name": "base",
   "language": "python",
   "name": "python3"
  },
  "language_info": {
   "codemirror_mode": {
    "name": "ipython",
    "version": 3
   },
   "file_extension": ".py",
   "mimetype": "text/x-python",
   "name": "python",
   "nbconvert_exporter": "python",
   "pygments_lexer": "ipython3",
   "version": "3.12.7"
  }
 },
 "nbformat": 4,
 "nbformat_minor": 2
}
